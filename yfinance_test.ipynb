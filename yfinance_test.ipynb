{
    "cells": [
        {
            "cell_type": "code",
            "execution_count": 1,
            "source": [
                "import yfinance as yf\r\n",
                "\r\n",
                "msft = yf.Ticker(\"MSFT\")\r\n",
                "\r\n",
                "# get stock info\r\n",
                "msft.info\r\n",
                "\r\n",
                "# get historical market data\r\n",
                "hist = msft.history(period=\"max\")\r\n"
            ],
            "outputs": [],
            "metadata": {}
        },
        {
            "cell_type": "code",
            "execution_count": 4,
            "source": [
                "\r\n",
                "# show actions (dividends, splits)\r\n",
                "msft.actions\r\n",
                "\r\n",
                "# show dividends\r\n",
                "msft.dividends\r\n",
                "\r\n",
                "# show splits\r\n",
                "msft.splits\r\n",
                "\r\n",
                "# show financials\r\n",
                "msft.financials\r\n",
                "msft.quarterly_financials\r\n",
                "\r\n",
                "# show major holders\r\n",
                "msft.major_holders\r\n",
                "\r\n",
                "# show institutional holders\r\n",
                "msft.institutional_holders\r\n",
                "\r\n",
                "# show balance sheet\r\n",
                "msft.balance_sheet\r\n",
                "msft.quarterly_balance_sheet\r\n",
                "\r\n",
                "# show cashflow\r\n",
                "msft.cashflow\r\n",
                "msft.quarterly_cashflow\r\n",
                "\r\n",
                "# show earnings\r\n",
                "msft.earnings\r\n",
                "msft.quarterly_earnings\r\n",
                "\r\n",
                "# show sustainability\r\n",
                "msft.sustainability\r\n",
                "\r\n",
                "# show analysts recommendations\r\n",
                "msft.recommendations\r\n",
                "\r\n",
                "# show next event (earnings, etc)\r\n",
                "msft.calendar\r\n",
                "\r\n",
                "# show ISIN code - *experimental*\r\n",
                "# ISIN = International Securities Identification Number\r\n",
                "msft.isin\r\n",
                "\r\n",
                "# show options expirations\r\n",
                "msft.options\r\n",
                "\r\n",
                "# get option chain for specific expiration\r\n",
                "opt = msft.option_chain('2021-08-06')\r\n",
                "# data available via: opt.calls, opt.puts"
            ],
            "outputs": [],
            "metadata": {}
        }
    ],
    "metadata": {
        "orig_nbformat": 4,
        "language_info": {
            "name": "python",
            "version": "3.7.6",
            "mimetype": "text/x-python",
            "codemirror_mode": {
                "name": "ipython",
                "version": 3
            },
            "pygments_lexer": "ipython3",
            "nbconvert_exporter": "python",
            "file_extension": ".py"
        },
        "kernelspec": {
            "name": "python3",
            "display_name": "Python 3.7.6 64-bit"
        },
        "interpreter": {
            "hash": "c8d051fc862597bd748cee664b4c849c53924153740f000520b0857a61b0c191"
        }
    },
    "nbformat": 4,
    "nbformat_minor": 2
}